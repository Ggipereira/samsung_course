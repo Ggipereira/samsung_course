{
  "cells": [
    {
      "cell_type": "markdown",
      "id": "6c86d7ac",
      "metadata": {
        "id": "6c86d7ac"
      },
      "source": [
        "# Imports"
      ]
    },
    {
      "cell_type": "code",
      "execution_count": 1,
      "id": "3bd80b32",
      "metadata": {
        "id": "3bd80b32"
      },
      "outputs": [],
      "source": [
        "import pandas as pd\n",
        "import numpy as np"
      ]
    },
    {
      "cell_type": "markdown",
      "id": "fd1ed19e",
      "metadata": {
        "id": "fd1ed19e"
      },
      "source": [
        "# Exercise 1.1 - Create a pandas Series from a list.\n",
        "\n",
        "Create a `list` with the names of the items given in the cell below. Then create a `Series` using that list, using the order provided.\n",
        "\n",
        "Note: Let pandas generate the index on its own."
      ]
    },
    {
      "cell_type": "code",
      "execution_count": 5,
      "id": "02b0f910",
      "metadata": {
        "id": "02b0f910"
      },
      "outputs": [],
      "source": [
        "# items (each of type string): beef, cheese, pulses, nuts, grains\n",
        "items_list = [\"beef\", \"cheese\", \"pulses\", \"nuts\", \"grains\"]\n",
        "\n",
        "# Create a series with the items above, and call it items_series\n",
        "items_series = pd.Series(items_list)"
      ]
    },
    {
      "cell_type": "code",
      "execution_count": 6,
      "id": "30264427",
      "metadata": {
        "id": "30264427",
        "outputId": "870259bc-10e3-4705-c6e6-33c8e5fe15da",
        "colab": {
          "base_uri": "https://localhost:8080/",
          "height": 241
        }
      },
      "outputs": [
        {
          "output_type": "execute_result",
          "data": {
            "text/plain": [
              "0      beef\n",
              "1    cheese\n",
              "2    pulses\n",
              "3      nuts\n",
              "4    grains\n",
              "dtype: object"
            ],
            "text/html": [
              "<div>\n",
              "<style scoped>\n",
              "    .dataframe tbody tr th:only-of-type {\n",
              "        vertical-align: middle;\n",
              "    }\n",
              "\n",
              "    .dataframe tbody tr th {\n",
              "        vertical-align: top;\n",
              "    }\n",
              "\n",
              "    .dataframe thead th {\n",
              "        text-align: right;\n",
              "    }\n",
              "</style>\n",
              "<table border=\"1\" class=\"dataframe\">\n",
              "  <thead>\n",
              "    <tr style=\"text-align: right;\">\n",
              "      <th></th>\n",
              "      <th>0</th>\n",
              "    </tr>\n",
              "  </thead>\n",
              "  <tbody>\n",
              "    <tr>\n",
              "      <th>0</th>\n",
              "      <td>beef</td>\n",
              "    </tr>\n",
              "    <tr>\n",
              "      <th>1</th>\n",
              "      <td>cheese</td>\n",
              "    </tr>\n",
              "    <tr>\n",
              "      <th>2</th>\n",
              "      <td>pulses</td>\n",
              "    </tr>\n",
              "    <tr>\n",
              "      <th>3</th>\n",
              "      <td>nuts</td>\n",
              "    </tr>\n",
              "    <tr>\n",
              "      <th>4</th>\n",
              "      <td>grains</td>\n",
              "    </tr>\n",
              "  </tbody>\n",
              "</table>\n",
              "</div><br><label><b>dtype:</b> object</label>"
            ]
          },
          "metadata": {},
          "execution_count": 6
        }
      ],
      "source": [
        "# run this cell to see the results\n",
        "items_series"
      ]
    },
    {
      "cell_type": "markdown",
      "id": "7633a1c3",
      "metadata": {
        "id": "7633a1c3"
      },
      "source": [
        "# Exercise 1.2 - $CO_2$ equivalents\n",
        "\n",
        "Let's now use the `items_list` as index and build a Series containing the kg $CO_2$ equivalents per item (the amount of $CO_2$ corresponding to the warming effect of greenhouse gases emitted during production of the item, [ref](https://www.science.org/doi/10.1126/science.aaq0216))."
      ]
    },
    {
      "cell_type": "code",
      "execution_count": 8,
      "id": "83d0894d",
      "metadata": {
        "id": "83d0894d"
      },
      "outputs": [],
      "source": [
        "# kg CO2 equivalents of the foods in items_list:\n",
        "food_CO2 = np.array([50, 11, 0.8, 0.3, 2.7])"
      ]
    },
    {
      "cell_type": "code",
      "execution_count": 9,
      "id": "933df4c0",
      "metadata": {
        "id": "933df4c0"
      },
      "outputs": [],
      "source": [
        "# Create a series which has items_list (created in exercise 1.1) as index,\n",
        "# and the respective value in the food_CO2 list given in the cell above as values.\n",
        "CO2_eq = pd.Series(data=food_CO2, index=items_list)"
      ]
    },
    {
      "cell_type": "code",
      "execution_count": 10,
      "id": "f2f189f3",
      "metadata": {
        "id": "f2f189f3",
        "outputId": "f9beb381-9c72-4936-d34f-e956faf7d5d9",
        "colab": {
          "base_uri": "https://localhost:8080/",
          "height": 241
        }
      },
      "outputs": [
        {
          "output_type": "execute_result",
          "data": {
            "text/plain": [
              "beef      50.0\n",
              "cheese    11.0\n",
              "pulses     0.8\n",
              "nuts       0.3\n",
              "grains     2.7\n",
              "dtype: float64"
            ],
            "text/html": [
              "<div>\n",
              "<style scoped>\n",
              "    .dataframe tbody tr th:only-of-type {\n",
              "        vertical-align: middle;\n",
              "    }\n",
              "\n",
              "    .dataframe tbody tr th {\n",
              "        vertical-align: top;\n",
              "    }\n",
              "\n",
              "    .dataframe thead th {\n",
              "        text-align: right;\n",
              "    }\n",
              "</style>\n",
              "<table border=\"1\" class=\"dataframe\">\n",
              "  <thead>\n",
              "    <tr style=\"text-align: right;\">\n",
              "      <th></th>\n",
              "      <th>0</th>\n",
              "    </tr>\n",
              "  </thead>\n",
              "  <tbody>\n",
              "    <tr>\n",
              "      <th>beef</th>\n",
              "      <td>50.0</td>\n",
              "    </tr>\n",
              "    <tr>\n",
              "      <th>cheese</th>\n",
              "      <td>11.0</td>\n",
              "    </tr>\n",
              "    <tr>\n",
              "      <th>pulses</th>\n",
              "      <td>0.8</td>\n",
              "    </tr>\n",
              "    <tr>\n",
              "      <th>nuts</th>\n",
              "      <td>0.3</td>\n",
              "    </tr>\n",
              "    <tr>\n",
              "      <th>grains</th>\n",
              "      <td>2.7</td>\n",
              "    </tr>\n",
              "  </tbody>\n",
              "</table>\n",
              "</div><br><label><b>dtype:</b> float64</label>"
            ]
          },
          "metadata": {},
          "execution_count": 10
        }
      ],
      "source": [
        "# run this cell to see the results\n",
        "CO2_eq"
      ]
    },
    {
      "cell_type": "markdown",
      "id": "91602aac",
      "metadata": {
        "id": "91602aac"
      },
      "source": [
        "# Exercise 1.3 - What is the $CO_2$ equivalent of a beef?\n",
        "\n",
        "**hint**: What makes more sense to use here `.loc` or `.iloc`?\n"
      ]
    },
    {
      "cell_type": "code",
      "execution_count": 21,
      "id": "782ee173",
      "metadata": {
        "id": "782ee173",
        "outputId": "c513be44-5317-4d49-e4c9-c8f8dc547f23",
        "colab": {
          "base_uri": "https://localhost:8080/"
        }
      },
      "outputs": [
        {
          "output_type": "execute_result",
          "data": {
            "text/plain": [
              "np.float64(50.0)"
            ]
          },
          "metadata": {},
          "execution_count": 21
        }
      ],
      "source": [
        "beef_co2 = CO2_eq.loc[\"beef\"]\n",
        "beef_co2\n"
      ]
    },
    {
      "cell_type": "markdown",
      "id": "4dd47968",
      "metadata": {
        "id": "4dd47968"
      },
      "source": [
        "# Exercise 1.4 - What is the $CO_2$ equivalent of the last item in our list?\n",
        "\n",
        "**hint**: What makes more sense to use here `.loc` or `.iloc`?"
      ]
    },
    {
      "cell_type": "code",
      "execution_count": 14,
      "id": "8af9b107",
      "metadata": {
        "id": "8af9b107",
        "outputId": "1c4601c1-5f2c-4339-8ffd-785f54c06d43",
        "colab": {
          "base_uri": "https://localhost:8080/"
        }
      },
      "outputs": [
        {
          "output_type": "execute_result",
          "data": {
            "text/plain": [
              "np.float64(2.7)"
            ]
          },
          "metadata": {},
          "execution_count": 14
        }
      ],
      "source": [
        "last_item_co2 = CO2_eq.iloc[-1]\n",
        "last_item_co2"
      ]
    },
    {
      "cell_type": "markdown",
      "id": "f2a1a25a",
      "metadata": {
        "id": "f2a1a25a"
      },
      "source": [
        "# Exercise 1.5 - Create a Series from a dictionary\n",
        "\n",
        "You have a grocery store with items and their quantities. (this sounds familiar...)\n",
        "\n",
        "Create a dictionary to represent this data and then create a pandas series from that dictionary"
      ]
    },
    {
      "cell_type": "code",
      "execution_count": 18,
      "id": "ab79ee70",
      "metadata": {
        "id": "ab79ee70",
        "outputId": "642f4dac-8132-4ba8-f86d-45ba7c36c63d",
        "colab": {
          "base_uri": "https://localhost:8080/",
          "height": 209
        }
      },
      "outputs": [
        {
          "output_type": "execute_result",
          "data": {
            "text/plain": [
              "oranges     3\n",
              "bananas     2\n",
              "apples     19\n",
              "pears       5\n",
              "dtype: int64"
            ],
            "text/html": [
              "<div>\n",
              "<style scoped>\n",
              "    .dataframe tbody tr th:only-of-type {\n",
              "        vertical-align: middle;\n",
              "    }\n",
              "\n",
              "    .dataframe tbody tr th {\n",
              "        vertical-align: top;\n",
              "    }\n",
              "\n",
              "    .dataframe thead th {\n",
              "        text-align: right;\n",
              "    }\n",
              "</style>\n",
              "<table border=\"1\" class=\"dataframe\">\n",
              "  <thead>\n",
              "    <tr style=\"text-align: right;\">\n",
              "      <th></th>\n",
              "      <th>0</th>\n",
              "    </tr>\n",
              "  </thead>\n",
              "  <tbody>\n",
              "    <tr>\n",
              "      <th>oranges</th>\n",
              "      <td>3</td>\n",
              "    </tr>\n",
              "    <tr>\n",
              "      <th>bananas</th>\n",
              "      <td>2</td>\n",
              "    </tr>\n",
              "    <tr>\n",
              "      <th>apples</th>\n",
              "      <td>19</td>\n",
              "    </tr>\n",
              "    <tr>\n",
              "      <th>pears</th>\n",
              "      <td>5</td>\n",
              "    </tr>\n",
              "  </tbody>\n",
              "</table>\n",
              "</div><br><label><b>dtype:</b> int64</label>"
            ]
          },
          "metadata": {},
          "execution_count": 18
        }
      ],
      "source": [
        "storage_dictionary = {\"oranges\": 3, \"bananas\": 2, \"apples\": 19, \"pears\": 5}\n",
        "storage_series = pd.Series(storage_dictionary)\n",
        "storage_series"
      ]
    }
  ],
  "metadata": {
    "kernelspec": {
      "display_name": "Python 3 (ipykernel)",
      "language": "python",
      "name": "python3"
    },
    "language_info": {
      "codemirror_mode": {
        "name": "ipython",
        "version": 3
      },
      "file_extension": ".py",
      "mimetype": "text/x-python",
      "name": "python",
      "nbconvert_exporter": "python",
      "pygments_lexer": "ipython3",
      "version": "3.10.9"
    },
    "colab": {
      "provenance": []
    }
  },
  "nbformat": 4,
  "nbformat_minor": 5
}